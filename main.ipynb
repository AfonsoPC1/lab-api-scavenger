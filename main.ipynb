{
 "cells": [
  {
   "cell_type": "code",
   "execution_count": 4,
   "metadata": {},
   "outputs": [],
   "source": [
    "#libraries\n",
    "\n",
    "import requests\n",
    "import json\n",
    "import pandas as pd\n",
    "from requests.auth import HTTPBasicAuth\n",
    "from getpass import getpass"
   ]
  },
  {
   "cell_type": "code",
   "execution_count": 64,
   "metadata": {},
   "outputs": [
    {
     "data": {
      "text/plain": [
       "[None, None, 'Jupyter Notebook']"
      ]
     },
     "execution_count": 64,
     "metadata": {},
     "output_type": "execute_result"
    }
   ],
   "source": [
    "#Challenge 1\n",
    "\n",
    "url = 'https://api.github.com/repos/ironhack-datalabs/bcn-feb-2019/forks'\n",
    "\n",
    "response = requests.get(url)\n",
    "response=response.json()\n",
    "\n",
    "[user['language'] for user in response]"
   ]
  },
  {
   "cell_type": "code",
   "execution_count": 84,
   "metadata": {},
   "outputs": [
    {
     "data": {
      "text/plain": [
       "0"
      ]
     },
     "execution_count": 84,
     "metadata": {},
     "output_type": "execute_result"
    }
   ],
   "source": [
    "#Challenge 2\n",
    "\n",
    "url = 'https://api.github.com/repos/ta-data-lis/lab-mysql-first-queries/commits'\n",
    "\n",
    "response = requests.get(url, params={'since':'2020-10-13'})\n",
    "response=response.json()\n",
    "\n",
    "len(response)"
   ]
  }
 ],
 "metadata": {
  "kernelspec": {
   "display_name": "Python 3",
   "language": "python",
   "name": "python3"
  },
  "language_info": {
   "codemirror_mode": {
    "name": "ipython",
    "version": 3
   },
   "file_extension": ".py",
   "mimetype": "text/x-python",
   "name": "python",
   "nbconvert_exporter": "python",
   "pygments_lexer": "ipython3",
   "version": "3.8.3"
  }
 },
 "nbformat": 4,
 "nbformat_minor": 4
}
